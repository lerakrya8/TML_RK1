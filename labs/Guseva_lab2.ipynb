{
 "cells": [
  {
   "cell_type": "markdown",
   "id": "65e0b936",
   "metadata": {},
   "source": [
    "# Лабораторная работа № 2"
   ]
  },
  {
   "cell_type": "markdown",
   "id": "a41f97ca",
   "metadata": {},
   "source": [
    "## Гусева Валерия ИУ5-63Б"
   ]
  },
  {
   "cell_type": "markdown",
   "id": "523e286b",
   "metadata": {},
   "source": [
    "# Обработка пропусков в данных, кодирование категориальных признаков, масштабирование данных."
   ]
  },
  {
   "cell_type": "markdown",
   "id": "9e700e25",
   "metadata": {},
   "source": [
    "## Цель лабораторной работы: изучение способов предварительной обработки данных для дальнейшего формирования моделей."
   ]
  },
  {
   "cell_type": "markdown",
   "id": "652eaaa0",
   "metadata": {},
   "source": [
    "## Задание:"
   ]
  },
  {
   "cell_type": "markdown",
   "id": "131d644e",
   "metadata": {},
   "source": [
    "\n",
    "- Выбрать набор данных (датасет), содержащий категориальные признаки и пропуски в данных. Для выполнения следующих пунктов можно использовать несколько различных наборов данных (один для обработки пропусков, другой для категориальных признаков и т.д.)\n",
    "- Для выбранного датасета (датасетов) на основе материалов лекции решить следующие задачи:\n",
    "  - обработку пропусков в данных;\n",
    "  - кодирование категориальных признаков;\n",
    "  - масштабирование данных."
   ]
  },
  {
   "cell_type": "code",
   "execution_count": 1,
   "id": "dcde33d3",
   "metadata": {},
   "outputs": [],
   "source": [
    "import numpy as np\n",
    "import pandas as pd\n",
    "import seaborn as sns\n",
    "import matplotlib.pyplot as plt\n",
    "from sklearn.impute import SimpleImputer\n",
    "from sklearn.impute import MissingIndicator\n",
    "from sklearn.preprocessing import LabelEncoder, OneHotEncoder, MinMaxScaler, StandardScaler, Normalizer\n",
    "%matplotlib inline \n",
    "sns.set(style=\"ticks\")"
   ]
  },
  {
   "cell_type": "markdown",
   "id": "e5c7d2bf",
   "metadata": {},
   "source": [
    "## Загрузка и первичный анализ данных"
   ]
  },
  {
   "cell_type": "markdown",
   "id": "8ca6feb8",
   "metadata": {},
   "source": [
    "Использованные датасеты: https://www.kaggle.com/open-flights/airline-database"
   ]
  },
  {
   "cell_type": "code",
   "execution_count": 2,
   "id": "b390dfa4",
   "metadata": {},
   "outputs": [],
   "source": [
    "data = pd.read_csv('airlines.csv', sep=\",\")"
   ]
  },
  {
   "cell_type": "code",
   "execution_count": 3,
   "id": "5a329244",
   "metadata": {},
   "outputs": [
    {
     "data": {
      "text/plain": [
       "(6162, 8)"
      ]
     },
     "execution_count": 3,
     "metadata": {},
     "output_type": "execute_result"
    }
   ],
   "source": [
    "data.shape"
   ]
  },
  {
   "cell_type": "code",
   "execution_count": 4,
   "id": "d8eb05b9",
   "metadata": {},
   "outputs": [
    {
     "data": {
      "text/plain": [
       "Airline ID     int64\n",
       "Name          object\n",
       "Alias         object\n",
       "IATA          object\n",
       "ICAO          object\n",
       "Callsign      object\n",
       "Country       object\n",
       "Active        object\n",
       "dtype: object"
      ]
     },
     "execution_count": 4,
     "metadata": {},
     "output_type": "execute_result"
    }
   ],
   "source": [
    "# Типы колонок\n",
    "data.dtypes"
   ]
  },
  {
   "cell_type": "code",
   "execution_count": 5,
   "id": "879a708e",
   "metadata": {},
   "outputs": [
    {
     "data": {
      "text/plain": [
       "Airline ID       0\n",
       "Name             0\n",
       "Alias          506\n",
       "IATA          4627\n",
       "ICAO            87\n",
       "Callsign       808\n",
       "Country         15\n",
       "Active           0\n",
       "dtype: int64"
      ]
     },
     "execution_count": 5,
     "metadata": {},
     "output_type": "execute_result"
    }
   ],
   "source": [
    "# Проверим, есть ли пропущенные значения\n",
    "data.isnull().sum()"
   ]
  },
  {
   "cell_type": "markdown",
   "id": "23699a48",
   "metadata": {},
   "source": [
    "## Обработка пропусков в данных"
   ]
  },
  {
   "cell_type": "code",
   "execution_count": 7,
   "id": "8a1525e8",
   "metadata": {},
   "outputs": [
    {
     "data": {
      "text/plain": [
       "((6162, 8), (6162, 3))"
      ]
     },
     "execution_count": 7,
     "metadata": {},
     "output_type": "execute_result"
    }
   ],
   "source": [
    "# Удаление колонок, содержащих пустые значения\n",
    "data_new_1 = data.dropna(axis=1, how='any')\n",
    "(data.shape, data_new_1.shape)"
   ]
  },
  {
   "cell_type": "code",
   "execution_count": 8,
   "id": "7430b8c6",
   "metadata": {},
   "outputs": [
    {
     "data": {
      "text/plain": [
       "((6162, 8), (1010, 8))"
      ]
     },
     "execution_count": 8,
     "metadata": {},
     "output_type": "execute_result"
    }
   ],
   "source": [
    "# Удаление строк, содержащих пустые значения\n",
    "data_new_2 = data.dropna(axis=0, how='any')\n",
    "(data.shape, data_new_2.shape)"
   ]
  },
  {
   "cell_type": "markdown",
   "id": "8648241e",
   "metadata": {},
   "source": [
    "### Обработка пропусков в категориальных данных"
   ]
  },
  {
   "cell_type": "code",
   "execution_count": 11,
   "id": "790707e3",
   "metadata": {},
   "outputs": [
    {
     "name": "stdout",
     "output_type": "stream",
     "text": [
      "Колонка Alias. Тип данных object. Количество пустых значений 506, 8.21%.\n",
      "Колонка IATA. Тип данных object. Количество пустых значений 4627, 75.09%.\n",
      "Колонка ICAO. Тип данных object. Количество пустых значений 87, 1.41%.\n",
      "Колонка Callsign. Тип данных object. Количество пустых значений 808, 13.11%.\n",
      "Колонка Country. Тип данных object. Количество пустых значений 15, 0.24%.\n"
     ]
    }
   ],
   "source": [
    "# Выберем категориальные колонки с пропущенными значениями\n",
    "# Цикл по колонкам датасета\n",
    "cat_cols = []\n",
    "for col in data.columns:\n",
    "    # Количество пустых значений \n",
    "    temp_null_count = data[data[col].isnull()].shape[0]\n",
    "    dt = str(data[col].dtype)\n",
    "    if temp_null_count>0 and (dt=='object'):\n",
    "        cat_cols.append(col)\n",
    "        temp_perc = round((temp_null_count / total_count) * 100.0, 2)\n",
    "        print('Колонка {}. Тип данных {}. Количество пустых значений {}, {}%.'.format(col, dt, temp_null_count, temp_perc))"
   ]
  },
  {
   "cell_type": "code",
   "execution_count": 12,
   "id": "aeb6bfc3",
   "metadata": {},
   "outputs": [
    {
     "data": {
      "text/html": [
       "<div>\n",
       "<style scoped>\n",
       "    .dataframe tbody tr th:only-of-type {\n",
       "        vertical-align: middle;\n",
       "    }\n",
       "\n",
       "    .dataframe tbody tr th {\n",
       "        vertical-align: top;\n",
       "    }\n",
       "\n",
       "    .dataframe thead th {\n",
       "        text-align: right;\n",
       "    }\n",
       "</style>\n",
       "<table border=\"1\" class=\"dataframe\">\n",
       "  <thead>\n",
       "    <tr style=\"text-align: right;\">\n",
       "      <th></th>\n",
       "      <th>Country</th>\n",
       "    </tr>\n",
       "  </thead>\n",
       "  <tbody>\n",
       "    <tr>\n",
       "      <th>0</th>\n",
       "      <td>\\N</td>\n",
       "    </tr>\n",
       "    <tr>\n",
       "      <th>1</th>\n",
       "      <td>NaN</td>\n",
       "    </tr>\n",
       "    <tr>\n",
       "      <th>2</th>\n",
       "      <td>United States</td>\n",
       "    </tr>\n",
       "    <tr>\n",
       "      <th>3</th>\n",
       "      <td>South Africa</td>\n",
       "    </tr>\n",
       "    <tr>\n",
       "      <th>4</th>\n",
       "      <td>United Kingdom</td>\n",
       "    </tr>\n",
       "  </tbody>\n",
       "</table>\n",
       "</div>"
      ],
      "text/plain": [
       "          Country\n",
       "0              \\N\n",
       "1             NaN\n",
       "2   United States\n",
       "3    South Africa\n",
       "4  United Kingdom"
      ]
     },
     "execution_count": 12,
     "metadata": {},
     "output_type": "execute_result"
    }
   ],
   "source": [
    "cat_temp_data = data[['Country']]\n",
    "cat_temp_data.head()"
   ]
  },
  {
   "cell_type": "code",
   "execution_count": 13,
   "id": "fe6a8e24",
   "metadata": {},
   "outputs": [
    {
     "data": {
      "text/plain": [
       "array(['\\\\N', nan, 'United States', 'South Africa', 'United Kingdom',\n",
       "       'Russia', 'Thailand', 'Canada', 'Australia', 'Singapore',\n",
       "       'Belgium', 'Mexico', 'Spain', 'France', 'United Arab Emirates',\n",
       "       'Republic of Korea', 'Pakistan', 'Libya', 'Gambia', 'Ivory Coast',\n",
       "       'Ukraine', 'Democratic Republic of the Congo', 'Iran', 'Finland',\n",
       "       'Brazil', 'Colombia', 'AEROCENTER', 'Ghana', 'Kenya', 'Liberia',\n",
       "       'Togo', 'Somali Republic', 'Morocco', 'Canadian Territories',\n",
       "       'Dominican Republic', 'Japan', 'Albania', 'Nigeria', 'Germany',\n",
       "       'Slovenia', 'Czech Republic', 'Benin', 'AEROCESAR', 'Greece',\n",
       "       'Chile', 'Tanzania', 'Bolivia', 'Italy', 'Sweden', 'Argentina',\n",
       "       'Sierra Leone', 'Indonesia', 'Senegal', 'Afghanistan', 'Uganda',\n",
       "       'Bosnia and Herzegovina', 'Gabon', 'Angola', 'Uzbekistan',\n",
       "       'Namibia', 'Turkey', 'Vietnam', 'Zambia', 'Venezuela', 'Egypt',\n",
       "       'Ireland', 'Switzerland', 'Serbia', 'Peru', 'Slovakia', 'Denmark',\n",
       "       'Azerbaijan', 'AIRPORT HELICOPTER', 'Hong Kong', 'Croatia',\n",
       "       'Hungary', 'Estonia', 'Swaziland', 'India', 'Reunion', 'Iceland',\n",
       "       'Israel', 'Austria', 'Jamaica', 'Malta', 'Portugal', 'Cyprus',\n",
       "       'Kazakhstan', 'Kyrgyzstan', 'Turkmenistan', 'Kiribati', 'Cambodia',\n",
       "       'Netherlands Antilles', 'Sao Tome and Principe', 'ALNACIONAL',\n",
       "       'Lithuania', 'Maldives', 'Malawi', 'Moldova', 'Montenegro',\n",
       "       'Macao', 'Seychelles', 'Bulgaria', 'Papua New Guinea', 'Latvia',\n",
       "       'ANTARES', 'AVINOR', 'New Zealand', 'ALCON', 'ASTORIA',\n",
       "       'COMPANY AS', 'Philippines', 'AIRPAC', 'AIRFLIGHT', 'ASA PESADA',\n",
       "       'AIR PRINT', 'APPALACHIAN', 'ALASKA PACIFIC', 'AEROPERLAS',\n",
       "       'AEROPUMA', 'ATCO', 'AVIOQUINTANA', 'Aruba', ' S.A.', 'ARMSTRONG',\n",
       "       'Armenia', 'AIREX', 'Chad', 'ALASKA', 'SCHEFF', 'AEROSUN',\n",
       "       'ALL STAR', 'AIR CLASS', 'Nepal', 'Sudan', 'Panama',\n",
       "       'Guinea-Bissau', 'ATLANTIS CANADA', 'Burkina Faso', 'Netherlands',\n",
       "       'Ecuador', 'AUDI AIR', 'Uruguay', 'AURORA AIR', 'AUSA', 'AVIANCA',\n",
       "       'ALAMO', 'Djibouti', 'AVEMEX', 'Vanuatu', 'AQUILINE',\n",
       "       'ACTIVE AERO', 'Bangladesh', 'Georgia', 'El Salvador',\n",
       "       'AEROVARADERO', 'AIRNAT', 'Niger', 'Jordan', 'AIRWAVE', 'AEROWEE',\n",
       "       'AIR FREIGHTER', 'Malaysia', 'RENTAXEL', 'Macedonia', 'AIRMAN',\n",
       "       'ATLANTIC NICARAGUA', 'AZIMUT', 'Zimbabwe', 'ARIZAIR', 'Lebanon',\n",
       "       'Guatemala', 'Bahrain', 'Barbados', 'Botswana', 'French Polynesia',\n",
       "       'Russian Federation', 'China', 'Belize', 'Mozambique',\n",
       "       'Marshall Islands', 'Algeria', 'Ethiopia', 'Air S', 'Fiji', 'Mali',\n",
       "       'Faroe Islands', 'Mauritania', 'Cameroon', 'Guinea', 'Belarus',\n",
       "       'French Guiana', 'Haiti', 'Comoros', 'Honduras', 'Norway',\n",
       "       'Myanmar', \"Democratic People's Republic of Korea\", 'Mauritius',\n",
       "       'Madagascar', 'Mongolia', 'Burundi', 'Sri Lanka', 'Romania',\n",
       "       'Republic of the Congo', 'Rwanda', 'Nicaragua',\n",
       "       'Turks and Caicos Islands', 'S', 'Bahamas', 'Suriname',\n",
       "       'Syrian Arab Republic', 'AIR-MAUR', 'Cape Verde', 'Luxembourg',\n",
       "       'Oman', 'Antigua and Barbuda', 'Trinidad and Tobago',\n",
       "       'Hong Kong SAR of China', 'Cayman Islands',\n",
       "       'Central African Republic', 'Democratic Republic of Congo',\n",
       "       'Poland', 'Taiwan', 'ASUR', 'Paraguay', 'Cuba', 'DRAGON', 'Bhutan',\n",
       "       'Equatorial Guinea', 'UNIFORM OSCAR', 'Russia]]', 'Eritrea',\n",
       "       'Tunisia', 'Costa Rica', 'Saint Lucia', 'Monaco',\n",
       "       'Solomon Islands', 'ALDAWLYH AIR', 'Iraq', 'Kuwait', 'ODINN',\n",
       "       'LAP', 'Lao Peoples Democratic Republic', 'Bermuda', 'WATCHDOG',\n",
       "       'Montserrat', 'Nauru', 'Saudi Arabia', 'Palau', 'Tonga', 'Samoa',\n",
       "       'Qatar', 'UNited Kingdom', 'Netherland', 'Guyana', 'Cook Islands',\n",
       "       'Brunei', 'ACOM', ' Boonville Stage Line',\n",
       "       'Saint Vincent and the Grenadines', 'SWISSBIRD', 'Yemen',\n",
       "       'Tajikistan', 'AEROSOL', 'Saint Kitts and Nevis', 'VELES',\n",
       "       \"Cote d'Ivoire\", 'Burma', 'South Korea', 'Guadeloupe',\n",
       "       'Congo (Kinshasa)', 'Syria', 'American Samoa',\n",
       "       'British Virgin Islands', 'Puerto Rico', 'Congo (Brazzaville)',\n",
       "       'South Sudan'], dtype=object)"
      ]
     },
     "execution_count": 13,
     "metadata": {},
     "output_type": "execute_result"
    }
   ],
   "source": [
    "cat_temp_data['Country'].unique()"
   ]
  },
  {
   "cell_type": "code",
   "execution_count": 14,
   "id": "6d60d831",
   "metadata": {},
   "outputs": [
    {
     "data": {
      "text/plain": [
       "array([['\\\\N'],\n",
       "       ['United States'],\n",
       "       ['United States'],\n",
       "       ...,\n",
       "       ['Australia'],\n",
       "       ['India'],\n",
       "       ['Russia']], dtype=object)"
      ]
     },
     "execution_count": 14,
     "metadata": {},
     "output_type": "execute_result"
    }
   ],
   "source": [
    "# Импьютация наиболее частыми значениями\n",
    "imp2 = SimpleImputer(missing_values=np.nan, strategy='most_frequent')\n",
    "data_imp2 = imp2.fit_transform(cat_temp_data)\n",
    "data_imp2"
   ]
  },
  {
   "cell_type": "code",
   "execution_count": 15,
   "id": "1223a68f",
   "metadata": {},
   "outputs": [
    {
     "data": {
      "text/plain": [
       "array([' Boonville Stage Line', ' S.A.', 'ACOM', 'ACTIVE AERO',\n",
       "       'AEROCENTER', 'AEROCESAR', 'AEROPERLAS', 'AEROPUMA', 'AEROSOL',\n",
       "       'AEROSUN', 'AEROVARADERO', 'AEROWEE', 'AIR CLASS', 'AIR FREIGHTER',\n",
       "       'AIR PRINT', 'AIR-MAUR', 'AIREX', 'AIRFLIGHT', 'AIRMAN', 'AIRNAT',\n",
       "       'AIRPAC', 'AIRPORT HELICOPTER', 'AIRWAVE', 'ALAMO', 'ALASKA',\n",
       "       'ALASKA PACIFIC', 'ALCON', 'ALDAWLYH AIR', 'ALL STAR',\n",
       "       'ALNACIONAL', 'ANTARES', 'APPALACHIAN', 'AQUILINE', 'ARIZAIR',\n",
       "       'ARMSTRONG', 'ASA PESADA', 'ASTORIA', 'ASUR', 'ATCO',\n",
       "       'ATLANTIC NICARAGUA', 'ATLANTIS CANADA', 'AUDI AIR', 'AURORA AIR',\n",
       "       'AUSA', 'AVEMEX', 'AVIANCA', 'AVINOR', 'AVIOQUINTANA', 'AZIMUT',\n",
       "       'Afghanistan', 'Air S', 'Albania', 'Algeria', 'American Samoa',\n",
       "       'Angola', 'Antigua and Barbuda', 'Argentina', 'Armenia', 'Aruba',\n",
       "       'Australia', 'Austria', 'Azerbaijan', 'Bahamas', 'Bahrain',\n",
       "       'Bangladesh', 'Barbados', 'Belarus', 'Belgium', 'Belize', 'Benin',\n",
       "       'Bermuda', 'Bhutan', 'Bolivia', 'Bosnia and Herzegovina',\n",
       "       'Botswana', 'Brazil', 'British Virgin Islands', 'Brunei',\n",
       "       'Bulgaria', 'Burkina Faso', 'Burma', 'Burundi', 'COMPANY AS',\n",
       "       'Cambodia', 'Cameroon', 'Canada', 'Canadian Territories',\n",
       "       'Cape Verde', 'Cayman Islands', 'Central African Republic', 'Chad',\n",
       "       'Chile', 'China', 'Colombia', 'Comoros', 'Congo (Brazzaville)',\n",
       "       'Congo (Kinshasa)', 'Cook Islands', 'Costa Rica', \"Cote d'Ivoire\",\n",
       "       'Croatia', 'Cuba', 'Cyprus', 'Czech Republic', 'DRAGON',\n",
       "       \"Democratic People's Republic of Korea\",\n",
       "       'Democratic Republic of Congo', 'Democratic Republic of the Congo',\n",
       "       'Denmark', 'Djibouti', 'Dominican Republic', 'Ecuador', 'Egypt',\n",
       "       'El Salvador', 'Equatorial Guinea', 'Eritrea', 'Estonia',\n",
       "       'Ethiopia', 'Faroe Islands', 'Fiji', 'Finland', 'France',\n",
       "       'French Guiana', 'French Polynesia', 'Gabon', 'Gambia', 'Georgia',\n",
       "       'Germany', 'Ghana', 'Greece', 'Guadeloupe', 'Guatemala', 'Guinea',\n",
       "       'Guinea-Bissau', 'Guyana', 'Haiti', 'Honduras', 'Hong Kong',\n",
       "       'Hong Kong SAR of China', 'Hungary', 'Iceland', 'India',\n",
       "       'Indonesia', 'Iran', 'Iraq', 'Ireland', 'Israel', 'Italy',\n",
       "       'Ivory Coast', 'Jamaica', 'Japan', 'Jordan', 'Kazakhstan', 'Kenya',\n",
       "       'Kiribati', 'Kuwait', 'Kyrgyzstan', 'LAP',\n",
       "       'Lao Peoples Democratic Republic', 'Latvia', 'Lebanon', 'Liberia',\n",
       "       'Libya', 'Lithuania', 'Luxembourg', 'Macao', 'Macedonia',\n",
       "       'Madagascar', 'Malawi', 'Malaysia', 'Maldives', 'Mali', 'Malta',\n",
       "       'Marshall Islands', 'Mauritania', 'Mauritius', 'Mexico', 'Moldova',\n",
       "       'Monaco', 'Mongolia', 'Montenegro', 'Montserrat', 'Morocco',\n",
       "       'Mozambique', 'Myanmar', 'Namibia', 'Nauru', 'Nepal', 'Netherland',\n",
       "       'Netherlands', 'Netherlands Antilles', 'New Zealand', 'Nicaragua',\n",
       "       'Niger', 'Nigeria', 'Norway', 'ODINN', 'Oman', 'Pakistan', 'Palau',\n",
       "       'Panama', 'Papua New Guinea', 'Paraguay', 'Peru', 'Philippines',\n",
       "       'Poland', 'Portugal', 'Puerto Rico', 'Qatar', 'RENTAXEL',\n",
       "       'Republic of Korea', 'Republic of the Congo', 'Reunion', 'Romania',\n",
       "       'Russia', 'Russia]]', 'Russian Federation', 'Rwanda', 'S',\n",
       "       'SCHEFF', 'SWISSBIRD', 'Saint Kitts and Nevis', 'Saint Lucia',\n",
       "       'Saint Vincent and the Grenadines', 'Samoa',\n",
       "       'Sao Tome and Principe', 'Saudi Arabia', 'Senegal', 'Serbia',\n",
       "       'Seychelles', 'Sierra Leone', 'Singapore', 'Slovakia', 'Slovenia',\n",
       "       'Solomon Islands', 'Somali Republic', 'South Africa',\n",
       "       'South Korea', 'South Sudan', 'Spain', 'Sri Lanka', 'Sudan',\n",
       "       'Suriname', 'Swaziland', 'Sweden', 'Switzerland', 'Syria',\n",
       "       'Syrian Arab Republic', 'Taiwan', 'Tajikistan', 'Tanzania',\n",
       "       'Thailand', 'Togo', 'Tonga', 'Trinidad and Tobago', 'Tunisia',\n",
       "       'Turkey', 'Turkmenistan', 'Turks and Caicos Islands',\n",
       "       'UNIFORM OSCAR', 'UNited Kingdom', 'Uganda', 'Ukraine',\n",
       "       'United Arab Emirates', 'United Kingdom', 'United States',\n",
       "       'Uruguay', 'Uzbekistan', 'VELES', 'Vanuatu', 'Venezuela',\n",
       "       'Vietnam', 'WATCHDOG', 'Yemen', 'Zambia', 'Zimbabwe', '\\\\N'],\n",
       "      dtype=object)"
      ]
     },
     "execution_count": 15,
     "metadata": {},
     "output_type": "execute_result"
    }
   ],
   "source": [
    "# Пустые значения отсутствуют\n",
    "np.unique(data_imp2)"
   ]
  },
  {
   "cell_type": "code",
   "execution_count": 16,
   "id": "0725393a",
   "metadata": {},
   "outputs": [
    {
     "data": {
      "text/plain": [
       "array([['\\\\N'],\n",
       "       ['NA'],\n",
       "       ['United States'],\n",
       "       ...,\n",
       "       ['Australia'],\n",
       "       ['India'],\n",
       "       ['Russia']], dtype=object)"
      ]
     },
     "execution_count": 16,
     "metadata": {},
     "output_type": "execute_result"
    }
   ],
   "source": [
    "# Импьютация константой\n",
    "imp3 = SimpleImputer(missing_values=np.nan, strategy='constant', fill_value='NA')\n",
    "data_imp3 = imp3.fit_transform(cat_temp_data)\n",
    "data_imp3"
   ]
  },
  {
   "cell_type": "code",
   "execution_count": 17,
   "id": "9c911467",
   "metadata": {},
   "outputs": [
    {
     "data": {
      "text/plain": [
       "array([' Boonville Stage Line', ' S.A.', 'ACOM', 'ACTIVE AERO',\n",
       "       'AEROCENTER', 'AEROCESAR', 'AEROPERLAS', 'AEROPUMA', 'AEROSOL',\n",
       "       'AEROSUN', 'AEROVARADERO', 'AEROWEE', 'AIR CLASS', 'AIR FREIGHTER',\n",
       "       'AIR PRINT', 'AIR-MAUR', 'AIREX', 'AIRFLIGHT', 'AIRMAN', 'AIRNAT',\n",
       "       'AIRPAC', 'AIRPORT HELICOPTER', 'AIRWAVE', 'ALAMO', 'ALASKA',\n",
       "       'ALASKA PACIFIC', 'ALCON', 'ALDAWLYH AIR', 'ALL STAR',\n",
       "       'ALNACIONAL', 'ANTARES', 'APPALACHIAN', 'AQUILINE', 'ARIZAIR',\n",
       "       'ARMSTRONG', 'ASA PESADA', 'ASTORIA', 'ASUR', 'ATCO',\n",
       "       'ATLANTIC NICARAGUA', 'ATLANTIS CANADA', 'AUDI AIR', 'AURORA AIR',\n",
       "       'AUSA', 'AVEMEX', 'AVIANCA', 'AVINOR', 'AVIOQUINTANA', 'AZIMUT',\n",
       "       'Afghanistan', 'Air S', 'Albania', 'Algeria', 'American Samoa',\n",
       "       'Angola', 'Antigua and Barbuda', 'Argentina', 'Armenia', 'Aruba',\n",
       "       'Australia', 'Austria', 'Azerbaijan', 'Bahamas', 'Bahrain',\n",
       "       'Bangladesh', 'Barbados', 'Belarus', 'Belgium', 'Belize', 'Benin',\n",
       "       'Bermuda', 'Bhutan', 'Bolivia', 'Bosnia and Herzegovina',\n",
       "       'Botswana', 'Brazil', 'British Virgin Islands', 'Brunei',\n",
       "       'Bulgaria', 'Burkina Faso', 'Burma', 'Burundi', 'COMPANY AS',\n",
       "       'Cambodia', 'Cameroon', 'Canada', 'Canadian Territories',\n",
       "       'Cape Verde', 'Cayman Islands', 'Central African Republic', 'Chad',\n",
       "       'Chile', 'China', 'Colombia', 'Comoros', 'Congo (Brazzaville)',\n",
       "       'Congo (Kinshasa)', 'Cook Islands', 'Costa Rica', \"Cote d'Ivoire\",\n",
       "       'Croatia', 'Cuba', 'Cyprus', 'Czech Republic', 'DRAGON',\n",
       "       \"Democratic People's Republic of Korea\",\n",
       "       'Democratic Republic of Congo', 'Democratic Republic of the Congo',\n",
       "       'Denmark', 'Djibouti', 'Dominican Republic', 'Ecuador', 'Egypt',\n",
       "       'El Salvador', 'Equatorial Guinea', 'Eritrea', 'Estonia',\n",
       "       'Ethiopia', 'Faroe Islands', 'Fiji', 'Finland', 'France',\n",
       "       'French Guiana', 'French Polynesia', 'Gabon', 'Gambia', 'Georgia',\n",
       "       'Germany', 'Ghana', 'Greece', 'Guadeloupe', 'Guatemala', 'Guinea',\n",
       "       'Guinea-Bissau', 'Guyana', 'Haiti', 'Honduras', 'Hong Kong',\n",
       "       'Hong Kong SAR of China', 'Hungary', 'Iceland', 'India',\n",
       "       'Indonesia', 'Iran', 'Iraq', 'Ireland', 'Israel', 'Italy',\n",
       "       'Ivory Coast', 'Jamaica', 'Japan', 'Jordan', 'Kazakhstan', 'Kenya',\n",
       "       'Kiribati', 'Kuwait', 'Kyrgyzstan', 'LAP',\n",
       "       'Lao Peoples Democratic Republic', 'Latvia', 'Lebanon', 'Liberia',\n",
       "       'Libya', 'Lithuania', 'Luxembourg', 'Macao', 'Macedonia',\n",
       "       'Madagascar', 'Malawi', 'Malaysia', 'Maldives', 'Mali', 'Malta',\n",
       "       'Marshall Islands', 'Mauritania', 'Mauritius', 'Mexico', 'Moldova',\n",
       "       'Monaco', 'Mongolia', 'Montenegro', 'Montserrat', 'Morocco',\n",
       "       'Mozambique', 'Myanmar', 'NA', 'Namibia', 'Nauru', 'Nepal',\n",
       "       'Netherland', 'Netherlands', 'Netherlands Antilles', 'New Zealand',\n",
       "       'Nicaragua', 'Niger', 'Nigeria', 'Norway', 'ODINN', 'Oman',\n",
       "       'Pakistan', 'Palau', 'Panama', 'Papua New Guinea', 'Paraguay',\n",
       "       'Peru', 'Philippines', 'Poland', 'Portugal', 'Puerto Rico',\n",
       "       'Qatar', 'RENTAXEL', 'Republic of Korea', 'Republic of the Congo',\n",
       "       'Reunion', 'Romania', 'Russia', 'Russia]]', 'Russian Federation',\n",
       "       'Rwanda', 'S', 'SCHEFF', 'SWISSBIRD', 'Saint Kitts and Nevis',\n",
       "       'Saint Lucia', 'Saint Vincent and the Grenadines', 'Samoa',\n",
       "       'Sao Tome and Principe', 'Saudi Arabia', 'Senegal', 'Serbia',\n",
       "       'Seychelles', 'Sierra Leone', 'Singapore', 'Slovakia', 'Slovenia',\n",
       "       'Solomon Islands', 'Somali Republic', 'South Africa',\n",
       "       'South Korea', 'South Sudan', 'Spain', 'Sri Lanka', 'Sudan',\n",
       "       'Suriname', 'Swaziland', 'Sweden', 'Switzerland', 'Syria',\n",
       "       'Syrian Arab Republic', 'Taiwan', 'Tajikistan', 'Tanzania',\n",
       "       'Thailand', 'Togo', 'Tonga', 'Trinidad and Tobago', 'Tunisia',\n",
       "       'Turkey', 'Turkmenistan', 'Turks and Caicos Islands',\n",
       "       'UNIFORM OSCAR', 'UNited Kingdom', 'Uganda', 'Ukraine',\n",
       "       'United Arab Emirates', 'United Kingdom', 'United States',\n",
       "       'Uruguay', 'Uzbekistan', 'VELES', 'Vanuatu', 'Venezuela',\n",
       "       'Vietnam', 'WATCHDOG', 'Yemen', 'Zambia', 'Zimbabwe', '\\\\N'],\n",
       "      dtype=object)"
      ]
     },
     "execution_count": 17,
     "metadata": {},
     "output_type": "execute_result"
    }
   ],
   "source": [
    "np.unique(data_imp3)"
   ]
  },
  {
   "cell_type": "markdown",
   "id": "834f9197",
   "metadata": {},
   "source": [
    "### Преобразование категориальных признаков в числовые"
   ]
  },
  {
   "cell_type": "code",
   "execution_count": 18,
   "id": "beae72b6",
   "metadata": {},
   "outputs": [
    {
     "data": {
      "text/html": [
       "<div>\n",
       "<style scoped>\n",
       "    .dataframe tbody tr th:only-of-type {\n",
       "        vertical-align: middle;\n",
       "    }\n",
       "\n",
       "    .dataframe tbody tr th {\n",
       "        vertical-align: top;\n",
       "    }\n",
       "\n",
       "    .dataframe thead th {\n",
       "        text-align: right;\n",
       "    }\n",
       "</style>\n",
       "<table border=\"1\" class=\"dataframe\">\n",
       "  <thead>\n",
       "    <tr style=\"text-align: right;\">\n",
       "      <th></th>\n",
       "      <th>c1</th>\n",
       "    </tr>\n",
       "  </thead>\n",
       "  <tbody>\n",
       "    <tr>\n",
       "      <th>0</th>\n",
       "      <td>\\N</td>\n",
       "    </tr>\n",
       "    <tr>\n",
       "      <th>1</th>\n",
       "      <td>United States</td>\n",
       "    </tr>\n",
       "    <tr>\n",
       "      <th>2</th>\n",
       "      <td>United States</td>\n",
       "    </tr>\n",
       "    <tr>\n",
       "      <th>3</th>\n",
       "      <td>South Africa</td>\n",
       "    </tr>\n",
       "    <tr>\n",
       "      <th>4</th>\n",
       "      <td>United Kingdom</td>\n",
       "    </tr>\n",
       "    <tr>\n",
       "      <th>...</th>\n",
       "      <td>...</td>\n",
       "    </tr>\n",
       "    <tr>\n",
       "      <th>6157</th>\n",
       "      <td>China</td>\n",
       "    </tr>\n",
       "    <tr>\n",
       "      <th>6158</th>\n",
       "      <td>United States</td>\n",
       "    </tr>\n",
       "    <tr>\n",
       "      <th>6159</th>\n",
       "      <td>Australia</td>\n",
       "    </tr>\n",
       "    <tr>\n",
       "      <th>6160</th>\n",
       "      <td>India</td>\n",
       "    </tr>\n",
       "    <tr>\n",
       "      <th>6161</th>\n",
       "      <td>Russia</td>\n",
       "    </tr>\n",
       "  </tbody>\n",
       "</table>\n",
       "<p>6162 rows × 1 columns</p>\n",
       "</div>"
      ],
      "text/plain": [
       "                  c1\n",
       "0                 \\N\n",
       "1      United States\n",
       "2      United States\n",
       "3       South Africa\n",
       "4     United Kingdom\n",
       "...              ...\n",
       "6157           China\n",
       "6158   United States\n",
       "6159       Australia\n",
       "6160           India\n",
       "6161          Russia\n",
       "\n",
       "[6162 rows x 1 columns]"
      ]
     },
     "execution_count": 18,
     "metadata": {},
     "output_type": "execute_result"
    }
   ],
   "source": [
    "cat_enc = pd.DataFrame({'c1':data_imp2.T[0]})\n",
    "cat_enc"
   ]
  },
  {
   "cell_type": "code",
   "execution_count": 19,
   "id": "1c151f98",
   "metadata": {},
   "outputs": [],
   "source": [
    "le = LabelEncoder()\n",
    "cat_enc_le = le.fit_transform(cat_enc['c1'])"
   ]
  },
  {
   "cell_type": "code",
   "execution_count": 20,
   "id": "fbbd09fb",
   "metadata": {},
   "outputs": [
    {
     "data": {
      "text/plain": [
       "array(['\\\\N', 'United States', 'South Africa', 'United Kingdom', 'Russia',\n",
       "       'Thailand', 'Canada', 'Australia', 'Singapore', 'Belgium',\n",
       "       'Mexico', 'Spain', 'France', 'United Arab Emirates',\n",
       "       'Republic of Korea', 'Pakistan', 'Libya', 'Gambia', 'Ivory Coast',\n",
       "       'Ukraine', 'Democratic Republic of the Congo', 'Iran', 'Finland',\n",
       "       'Brazil', 'Colombia', 'AEROCENTER', 'Ghana', 'Kenya', 'Liberia',\n",
       "       'Togo', 'Somali Republic', 'Morocco', 'Canadian Territories',\n",
       "       'Dominican Republic', 'Japan', 'Albania', 'Nigeria', 'Germany',\n",
       "       'Slovenia', 'Czech Republic', 'Benin', 'AEROCESAR', 'Greece',\n",
       "       'Chile', 'Tanzania', 'Bolivia', 'Italy', 'Sweden', 'Argentina',\n",
       "       'Sierra Leone', 'Indonesia', 'Senegal', 'Afghanistan', 'Uganda',\n",
       "       'Bosnia and Herzegovina', 'Gabon', 'Angola', 'Uzbekistan',\n",
       "       'Namibia', 'Turkey', 'Vietnam', 'Zambia', 'Venezuela', 'Egypt',\n",
       "       'Ireland', 'Switzerland', 'Serbia', 'Peru', 'Slovakia', 'Denmark',\n",
       "       'Azerbaijan', 'AIRPORT HELICOPTER', 'Hong Kong', 'Croatia',\n",
       "       'Hungary', 'Estonia', 'Swaziland', 'India', 'Reunion', 'Iceland',\n",
       "       'Israel', 'Austria', 'Jamaica', 'Malta', 'Portugal', 'Cyprus',\n",
       "       'Kazakhstan', 'Kyrgyzstan', 'Turkmenistan', 'Kiribati', 'Cambodia',\n",
       "       'Netherlands Antilles', 'Sao Tome and Principe', 'ALNACIONAL',\n",
       "       'Lithuania', 'Maldives', 'Malawi', 'Moldova', 'Montenegro',\n",
       "       'Macao', 'Seychelles', 'Bulgaria', 'Papua New Guinea', 'Latvia',\n",
       "       'ANTARES', 'AVINOR', 'New Zealand', 'ALCON', 'ASTORIA',\n",
       "       'COMPANY AS', 'Philippines', 'AIRPAC', 'AIRFLIGHT', 'ASA PESADA',\n",
       "       'AIR PRINT', 'APPALACHIAN', 'ALASKA PACIFIC', 'AEROPERLAS',\n",
       "       'AEROPUMA', 'ATCO', 'AVIOQUINTANA', 'Aruba', ' S.A.', 'ARMSTRONG',\n",
       "       'Armenia', 'AIREX', 'Chad', 'ALASKA', 'SCHEFF', 'AEROSUN',\n",
       "       'ALL STAR', 'AIR CLASS', 'Nepal', 'Sudan', 'Panama',\n",
       "       'Guinea-Bissau', 'ATLANTIS CANADA', 'Burkina Faso', 'Netherlands',\n",
       "       'Ecuador', 'AUDI AIR', 'Uruguay', 'AURORA AIR', 'AUSA', 'AVIANCA',\n",
       "       'ALAMO', 'Djibouti', 'AVEMEX', 'Vanuatu', 'AQUILINE',\n",
       "       'ACTIVE AERO', 'Bangladesh', 'Georgia', 'El Salvador',\n",
       "       'AEROVARADERO', 'AIRNAT', 'Niger', 'Jordan', 'AIRWAVE', 'AEROWEE',\n",
       "       'AIR FREIGHTER', 'Malaysia', 'RENTAXEL', 'Macedonia', 'AIRMAN',\n",
       "       'ATLANTIC NICARAGUA', 'AZIMUT', 'Zimbabwe', 'ARIZAIR', 'Lebanon',\n",
       "       'Guatemala', 'Bahrain', 'Barbados', 'Botswana', 'French Polynesia',\n",
       "       'Russian Federation', 'China', 'Belize', 'Mozambique',\n",
       "       'Marshall Islands', 'Algeria', 'Ethiopia', 'Air S', 'Fiji', 'Mali',\n",
       "       'Faroe Islands', 'Mauritania', 'Cameroon', 'Guinea', 'Belarus',\n",
       "       'French Guiana', 'Haiti', 'Comoros', 'Honduras', 'Norway',\n",
       "       'Myanmar', \"Democratic People's Republic of Korea\", 'Mauritius',\n",
       "       'Madagascar', 'Mongolia', 'Burundi', 'Sri Lanka', 'Romania',\n",
       "       'Republic of the Congo', 'Rwanda', 'Nicaragua',\n",
       "       'Turks and Caicos Islands', 'S', 'Bahamas', 'Suriname',\n",
       "       'Syrian Arab Republic', 'AIR-MAUR', 'Cape Verde', 'Luxembourg',\n",
       "       'Oman', 'Antigua and Barbuda', 'Trinidad and Tobago',\n",
       "       'Hong Kong SAR of China', 'Cayman Islands',\n",
       "       'Central African Republic', 'Democratic Republic of Congo',\n",
       "       'Poland', 'Taiwan', 'ASUR', 'Paraguay', 'Cuba', 'DRAGON', 'Bhutan',\n",
       "       'Equatorial Guinea', 'UNIFORM OSCAR', 'Russia]]', 'Eritrea',\n",
       "       'Tunisia', 'Costa Rica', 'Saint Lucia', 'Monaco',\n",
       "       'Solomon Islands', 'ALDAWLYH AIR', 'Iraq', 'Kuwait', 'ODINN',\n",
       "       'LAP', 'Lao Peoples Democratic Republic', 'Bermuda', 'WATCHDOG',\n",
       "       'Montserrat', 'Nauru', 'Saudi Arabia', 'Palau', 'Tonga', 'Samoa',\n",
       "       'Qatar', 'UNited Kingdom', 'Netherland', 'Guyana', 'Cook Islands',\n",
       "       'Brunei', 'ACOM', ' Boonville Stage Line',\n",
       "       'Saint Vincent and the Grenadines', 'SWISSBIRD', 'Yemen',\n",
       "       'Tajikistan', 'AEROSOL', 'Saint Kitts and Nevis', 'VELES',\n",
       "       \"Cote d'Ivoire\", 'Burma', 'South Korea', 'Guadeloupe',\n",
       "       'Congo (Kinshasa)', 'Syria', 'American Samoa',\n",
       "       'British Virgin Islands', 'Puerto Rico', 'Congo (Brazzaville)',\n",
       "       'South Sudan'], dtype=object)"
      ]
     },
     "execution_count": 20,
     "metadata": {},
     "output_type": "execute_result"
    }
   ],
   "source": [
    "cat_enc['c1'].unique()"
   ]
  },
  {
   "cell_type": "code",
   "execution_count": 21,
   "id": "96029204",
   "metadata": {},
   "outputs": [
    {
     "data": {
      "text/plain": [
       "array([  0,   1,   2,   3,   4,   5,   6,   7,   8,   9,  10,  11,  12,\n",
       "        13,  14,  15,  16,  17,  18,  19,  20,  21,  22,  23,  24,  25,\n",
       "        26,  27,  28,  29,  30,  31,  32,  33,  34,  35,  36,  37,  38,\n",
       "        39,  40,  41,  42,  43,  44,  45,  46,  47,  48,  49,  50,  51,\n",
       "        52,  53,  54,  55,  56,  57,  58,  59,  60,  61,  62,  63,  64,\n",
       "        65,  66,  67,  68,  69,  70,  71,  72,  73,  74,  75,  76,  77,\n",
       "        78,  79,  80,  81,  82,  83,  84,  85,  86,  87,  88,  89,  90,\n",
       "        91,  92,  93,  94,  95,  96,  97,  98,  99, 100, 101, 102, 103,\n",
       "       104, 105, 106, 107, 108, 109, 110, 111, 112, 113, 114, 115, 116,\n",
       "       117, 118, 119, 120, 121, 122, 123, 124, 125, 126, 127, 128, 129,\n",
       "       130, 131, 132, 133, 134, 135, 136, 137, 138, 139, 140, 141, 142,\n",
       "       143, 144, 145, 146, 147, 148, 149, 150, 151, 152, 153, 154, 155,\n",
       "       156, 157, 158, 159, 160, 161, 162, 163, 164, 165, 166, 167, 168,\n",
       "       169, 170, 171, 172, 173, 174, 175, 176, 177, 178, 179, 180, 181,\n",
       "       182, 183, 184, 185, 186, 187, 188, 189, 190, 191, 192, 193, 194,\n",
       "       195, 196, 197, 198, 199, 200, 201, 202, 203, 204, 205, 206, 207,\n",
       "       208, 209, 210, 211, 212, 213, 214, 215, 216, 217, 218, 219, 220,\n",
       "       221, 222, 223, 224, 225, 226, 227, 228, 229, 230, 231, 232, 233,\n",
       "       234, 235, 236, 237, 238, 239, 240, 241, 242, 243, 244, 245, 246,\n",
       "       247, 248, 249, 250, 251, 252, 253, 254, 255, 256, 257, 258, 259,\n",
       "       260, 261, 262, 263, 264, 265, 266, 267, 268, 269, 270, 271, 272,\n",
       "       273, 274, 275, 276])"
      ]
     },
     "execution_count": 21,
     "metadata": {},
     "output_type": "execute_result"
    }
   ],
   "source": [
    "np.unique(cat_enc_le)"
   ]
  },
  {
   "cell_type": "code",
   "execution_count": 22,
   "id": "41d73c26",
   "metadata": {},
   "outputs": [
    {
     "data": {
      "text/plain": [
       "array([' Boonville Stage Line', ' S.A.', 'ACOM', 'ACTIVE AERO'],\n",
       "      dtype=object)"
      ]
     },
     "execution_count": 22,
     "metadata": {},
     "output_type": "execute_result"
    }
   ],
   "source": [
    "le.inverse_transform([0, 1, 2, 3])"
   ]
  },
  {
   "cell_type": "code",
   "execution_count": 23,
   "id": "7ca6c832",
   "metadata": {},
   "outputs": [
    {
     "data": {
      "text/html": [
       "<div>\n",
       "<style scoped>\n",
       "    .dataframe tbody tr th:only-of-type {\n",
       "        vertical-align: middle;\n",
       "    }\n",
       "\n",
       "    .dataframe tbody tr th {\n",
       "        vertical-align: top;\n",
       "    }\n",
       "\n",
       "    .dataframe thead th {\n",
       "        text-align: right;\n",
       "    }\n",
       "</style>\n",
       "<table border=\"1\" class=\"dataframe\">\n",
       "  <thead>\n",
       "    <tr style=\"text-align: right;\">\n",
       "      <th></th>\n",
       "      <th>Airline ID</th>\n",
       "      <th>Name</th>\n",
       "      <th>Alias</th>\n",
       "      <th>IATA</th>\n",
       "      <th>ICAO</th>\n",
       "      <th>Callsign</th>\n",
       "      <th>Country</th>\n",
       "      <th>Active</th>\n",
       "    </tr>\n",
       "  </thead>\n",
       "  <tbody>\n",
       "    <tr>\n",
       "      <th>0</th>\n",
       "      <td>-1</td>\n",
       "      <td>Unknown</td>\n",
       "      <td>\\N</td>\n",
       "      <td>-</td>\n",
       "      <td>NaN</td>\n",
       "      <td>\\N</td>\n",
       "      <td>\\N</td>\n",
       "      <td>Y</td>\n",
       "    </tr>\n",
       "    <tr>\n",
       "      <th>1</th>\n",
       "      <td>1</td>\n",
       "      <td>Private flight</td>\n",
       "      <td>\\N</td>\n",
       "      <td>-</td>\n",
       "      <td>NaN</td>\n",
       "      <td>NaN</td>\n",
       "      <td>NaN</td>\n",
       "      <td>Y</td>\n",
       "    </tr>\n",
       "    <tr>\n",
       "      <th>2</th>\n",
       "      <td>2</td>\n",
       "      <td>135 Airways</td>\n",
       "      <td>\\N</td>\n",
       "      <td>NaN</td>\n",
       "      <td>GNL</td>\n",
       "      <td>GENERAL</td>\n",
       "      <td>United States</td>\n",
       "      <td>N</td>\n",
       "    </tr>\n",
       "    <tr>\n",
       "      <th>3</th>\n",
       "      <td>3</td>\n",
       "      <td>1Time Airline</td>\n",
       "      <td>\\N</td>\n",
       "      <td>1T</td>\n",
       "      <td>RNX</td>\n",
       "      <td>NEXTIME</td>\n",
       "      <td>South Africa</td>\n",
       "      <td>Y</td>\n",
       "    </tr>\n",
       "    <tr>\n",
       "      <th>4</th>\n",
       "      <td>4</td>\n",
       "      <td>2 Sqn No 1 Elementary Flying Training School</td>\n",
       "      <td>\\N</td>\n",
       "      <td>NaN</td>\n",
       "      <td>WYT</td>\n",
       "      <td>NaN</td>\n",
       "      <td>United Kingdom</td>\n",
       "      <td>N</td>\n",
       "    </tr>\n",
       "  </tbody>\n",
       "</table>\n",
       "</div>"
      ],
      "text/plain": [
       "   Airline ID                                          Name Alias IATA ICAO  \\\n",
       "0          -1                                       Unknown    \\N    -  NaN   \n",
       "1           1                                Private flight    \\N    -  NaN   \n",
       "2           2                                   135 Airways    \\N  NaN  GNL   \n",
       "3           3                                 1Time Airline    \\N   1T  RNX   \n",
       "4           4  2 Sqn No 1 Elementary Flying Training School    \\N  NaN  WYT   \n",
       "\n",
       "  Callsign         Country Active  \n",
       "0       \\N              \\N      Y  \n",
       "1      NaN             NaN      Y  \n",
       "2  GENERAL   United States      N  \n",
       "3  NEXTIME    South Africa      Y  \n",
       "4      NaN  United Kingdom      N  "
      ]
     },
     "execution_count": 23,
     "metadata": {},
     "output_type": "execute_result"
    }
   ],
   "source": [
    "data.head()"
   ]
  },
  {
   "cell_type": "markdown",
   "id": "fb649b08",
   "metadata": {},
   "source": [
    "### Кодирование категорий наборами бинарных значений"
   ]
  },
  {
   "cell_type": "code",
   "execution_count": 24,
   "id": "c17ecdc3",
   "metadata": {},
   "outputs": [],
   "source": [
    "ohe = OneHotEncoder()\n",
    "cat_enc_ohe = ohe.fit_transform(cat_enc[['c1']])"
   ]
  },
  {
   "cell_type": "code",
   "execution_count": 25,
   "id": "23ca6bfc",
   "metadata": {},
   "outputs": [
    {
     "data": {
      "text/plain": [
       "matrix([[0., 0., 0., ..., 0., 0., 1.],\n",
       "        [0., 0., 0., ..., 0., 0., 0.],\n",
       "        [0., 0., 0., ..., 0., 0., 0.],\n",
       "        ...,\n",
       "        [0., 0., 0., ..., 0., 0., 0.],\n",
       "        [0., 0., 0., ..., 0., 0., 0.],\n",
       "        [0., 0., 0., ..., 0., 0., 0.]])"
      ]
     },
     "execution_count": 25,
     "metadata": {},
     "output_type": "execute_result"
    }
   ],
   "source": [
    "cat_enc_ohe.todense()[0:10]"
   ]
  },
  {
   "cell_type": "code",
   "execution_count": 26,
   "id": "cf1fcc5d",
   "metadata": {},
   "outputs": [
    {
     "data": {
      "text/html": [
       "<div>\n",
       "<style scoped>\n",
       "    .dataframe tbody tr th:only-of-type {\n",
       "        vertical-align: middle;\n",
       "    }\n",
       "\n",
       "    .dataframe tbody tr th {\n",
       "        vertical-align: top;\n",
       "    }\n",
       "\n",
       "    .dataframe thead th {\n",
       "        text-align: right;\n",
       "    }\n",
       "</style>\n",
       "<table border=\"1\" class=\"dataframe\">\n",
       "  <thead>\n",
       "    <tr style=\"text-align: right;\">\n",
       "      <th></th>\n",
       "      <th>c1</th>\n",
       "    </tr>\n",
       "  </thead>\n",
       "  <tbody>\n",
       "    <tr>\n",
       "      <th>0</th>\n",
       "      <td>\\N</td>\n",
       "    </tr>\n",
       "    <tr>\n",
       "      <th>1</th>\n",
       "      <td>United States</td>\n",
       "    </tr>\n",
       "    <tr>\n",
       "      <th>2</th>\n",
       "      <td>United States</td>\n",
       "    </tr>\n",
       "    <tr>\n",
       "      <th>3</th>\n",
       "      <td>South Africa</td>\n",
       "    </tr>\n",
       "    <tr>\n",
       "      <th>4</th>\n",
       "      <td>United Kingdom</td>\n",
       "    </tr>\n",
       "    <tr>\n",
       "      <th>5</th>\n",
       "      <td>Russia</td>\n",
       "    </tr>\n",
       "    <tr>\n",
       "      <th>6</th>\n",
       "      <td>Russia</td>\n",
       "    </tr>\n",
       "    <tr>\n",
       "      <th>7</th>\n",
       "      <td>Russia</td>\n",
       "    </tr>\n",
       "    <tr>\n",
       "      <th>8</th>\n",
       "      <td>United Kingdom</td>\n",
       "    </tr>\n",
       "    <tr>\n",
       "      <th>9</th>\n",
       "      <td>United States</td>\n",
       "    </tr>\n",
       "  </tbody>\n",
       "</table>\n",
       "</div>"
      ],
      "text/plain": [
       "               c1\n",
       "0              \\N\n",
       "1   United States\n",
       "2   United States\n",
       "3    South Africa\n",
       "4  United Kingdom\n",
       "5          Russia\n",
       "6          Russia\n",
       "7          Russia\n",
       "8  United Kingdom\n",
       "9   United States"
      ]
     },
     "execution_count": 26,
     "metadata": {},
     "output_type": "execute_result"
    }
   ],
   "source": [
    "cat_enc.head(10)"
   ]
  },
  {
   "cell_type": "markdown",
   "id": "89e9430a",
   "metadata": {},
   "source": [
    "### Масштабирование данных"
   ]
  },
  {
   "cell_type": "code",
   "execution_count": 27,
   "id": "a7395115",
   "metadata": {},
   "outputs": [
    {
     "data": {
      "text/html": [
       "<div>\n",
       "<style scoped>\n",
       "    .dataframe tbody tr th:only-of-type {\n",
       "        vertical-align: middle;\n",
       "    }\n",
       "\n",
       "    .dataframe tbody tr th {\n",
       "        vertical-align: top;\n",
       "    }\n",
       "\n",
       "    .dataframe thead th {\n",
       "        text-align: right;\n",
       "    }\n",
       "</style>\n",
       "<table border=\"1\" class=\"dataframe\">\n",
       "  <thead>\n",
       "    <tr style=\"text-align: right;\">\n",
       "      <th></th>\n",
       "      <th>Airline ID</th>\n",
       "      <th>Name</th>\n",
       "      <th>Alias</th>\n",
       "      <th>IATA</th>\n",
       "      <th>ICAO</th>\n",
       "      <th>Callsign</th>\n",
       "      <th>Country</th>\n",
       "      <th>Active</th>\n",
       "    </tr>\n",
       "  </thead>\n",
       "  <tbody>\n",
       "    <tr>\n",
       "      <th>0</th>\n",
       "      <td>-1</td>\n",
       "      <td>Unknown</td>\n",
       "      <td>\\N</td>\n",
       "      <td>-</td>\n",
       "      <td>NaN</td>\n",
       "      <td>\\N</td>\n",
       "      <td>\\N</td>\n",
       "      <td>Y</td>\n",
       "    </tr>\n",
       "    <tr>\n",
       "      <th>1</th>\n",
       "      <td>1</td>\n",
       "      <td>Private flight</td>\n",
       "      <td>\\N</td>\n",
       "      <td>-</td>\n",
       "      <td>NaN</td>\n",
       "      <td>NaN</td>\n",
       "      <td>NaN</td>\n",
       "      <td>Y</td>\n",
       "    </tr>\n",
       "    <tr>\n",
       "      <th>2</th>\n",
       "      <td>2</td>\n",
       "      <td>135 Airways</td>\n",
       "      <td>\\N</td>\n",
       "      <td>NaN</td>\n",
       "      <td>GNL</td>\n",
       "      <td>GENERAL</td>\n",
       "      <td>United States</td>\n",
       "      <td>N</td>\n",
       "    </tr>\n",
       "    <tr>\n",
       "      <th>3</th>\n",
       "      <td>3</td>\n",
       "      <td>1Time Airline</td>\n",
       "      <td>\\N</td>\n",
       "      <td>1T</td>\n",
       "      <td>RNX</td>\n",
       "      <td>NEXTIME</td>\n",
       "      <td>South Africa</td>\n",
       "      <td>Y</td>\n",
       "    </tr>\n",
       "    <tr>\n",
       "      <th>4</th>\n",
       "      <td>4</td>\n",
       "      <td>2 Sqn No 1 Elementary Flying Training School</td>\n",
       "      <td>\\N</td>\n",
       "      <td>NaN</td>\n",
       "      <td>WYT</td>\n",
       "      <td>NaN</td>\n",
       "      <td>United Kingdom</td>\n",
       "      <td>N</td>\n",
       "    </tr>\n",
       "  </tbody>\n",
       "</table>\n",
       "</div>"
      ],
      "text/plain": [
       "   Airline ID                                          Name Alias IATA ICAO  \\\n",
       "0          -1                                       Unknown    \\N    -  NaN   \n",
       "1           1                                Private flight    \\N    -  NaN   \n",
       "2           2                                   135 Airways    \\N  NaN  GNL   \n",
       "3           3                                 1Time Airline    \\N   1T  RNX   \n",
       "4           4  2 Sqn No 1 Elementary Flying Training School    \\N  NaN  WYT   \n",
       "\n",
       "  Callsign         Country Active  \n",
       "0       \\N              \\N      Y  \n",
       "1      NaN             NaN      Y  \n",
       "2  GENERAL   United States      N  \n",
       "3  NEXTIME    South Africa      Y  \n",
       "4      NaN  United Kingdom      N  "
      ]
     },
     "execution_count": 27,
     "metadata": {},
     "output_type": "execute_result"
    }
   ],
   "source": [
    "data.head()"
   ]
  },
  {
   "cell_type": "markdown",
   "id": "082887a5",
   "metadata": {},
   "source": [
    "### MinMax Масштабирование"
   ]
  },
  {
   "cell_type": "markdown",
   "id": "aeb9d8c5",
   "metadata": {},
   "source": [
    "### Импорт данных для масштабирования"
   ]
  },
  {
   "cell_type": "code",
   "execution_count": 29,
   "id": "1a7315c1",
   "metadata": {},
   "outputs": [],
   "source": [
    "data = pd.read_csv('TMDb_updated.csv', sep=\",\")"
   ]
  },
  {
   "cell_type": "code",
   "execution_count": 30,
   "id": "1cf54d3c",
   "metadata": {},
   "outputs": [
    {
     "data": {
      "text/html": [
       "<div>\n",
       "<style scoped>\n",
       "    .dataframe tbody tr th:only-of-type {\n",
       "        vertical-align: middle;\n",
       "    }\n",
       "\n",
       "    .dataframe tbody tr th {\n",
       "        vertical-align: top;\n",
       "    }\n",
       "\n",
       "    .dataframe thead th {\n",
       "        text-align: right;\n",
       "    }\n",
       "</style>\n",
       "<table border=\"1\" class=\"dataframe\">\n",
       "  <thead>\n",
       "    <tr style=\"text-align: right;\">\n",
       "      <th></th>\n",
       "      <th>Unnamed: 0</th>\n",
       "      <th>title</th>\n",
       "      <th>overview</th>\n",
       "      <th>original_language</th>\n",
       "      <th>vote_count</th>\n",
       "      <th>vote_average</th>\n",
       "    </tr>\n",
       "  </thead>\n",
       "  <tbody>\n",
       "    <tr>\n",
       "      <th>0</th>\n",
       "      <td>0</td>\n",
       "      <td>Ad Astra</td>\n",
       "      <td>The near future, a time when both hope and har...</td>\n",
       "      <td>en</td>\n",
       "      <td>2853</td>\n",
       "      <td>5.9</td>\n",
       "    </tr>\n",
       "    <tr>\n",
       "      <th>1</th>\n",
       "      <td>1</td>\n",
       "      <td>Bloodshot</td>\n",
       "      <td>After he and his wife are murdered, marine Ray...</td>\n",
       "      <td>en</td>\n",
       "      <td>1349</td>\n",
       "      <td>7.2</td>\n",
       "    </tr>\n",
       "    <tr>\n",
       "      <th>2</th>\n",
       "      <td>2</td>\n",
       "      <td>Bad Boys for Life</td>\n",
       "      <td>Marcus and Mike are forced to confront new thr...</td>\n",
       "      <td>en</td>\n",
       "      <td>2530</td>\n",
       "      <td>7.1</td>\n",
       "    </tr>\n",
       "    <tr>\n",
       "      <th>3</th>\n",
       "      <td>3</td>\n",
       "      <td>Ant-Man</td>\n",
       "      <td>Armed with the astonishing ability to shrink i...</td>\n",
       "      <td>en</td>\n",
       "      <td>13611</td>\n",
       "      <td>7.1</td>\n",
       "    </tr>\n",
       "    <tr>\n",
       "      <th>4</th>\n",
       "      <td>4</td>\n",
       "      <td>Percy Jackson: Sea of Monsters</td>\n",
       "      <td>In their quest to confront the ultimate evil, ...</td>\n",
       "      <td>en</td>\n",
       "      <td>3542</td>\n",
       "      <td>5.9</td>\n",
       "    </tr>\n",
       "  </tbody>\n",
       "</table>\n",
       "</div>"
      ],
      "text/plain": [
       "   Unnamed: 0                           title  \\\n",
       "0           0                        Ad Astra   \n",
       "1           1                       Bloodshot   \n",
       "2           2               Bad Boys for Life   \n",
       "3           3                         Ant-Man   \n",
       "4           4  Percy Jackson: Sea of Monsters   \n",
       "\n",
       "                                            overview original_language  \\\n",
       "0  The near future, a time when both hope and har...                en   \n",
       "1  After he and his wife are murdered, marine Ray...                en   \n",
       "2  Marcus and Mike are forced to confront new thr...                en   \n",
       "3  Armed with the astonishing ability to shrink i...                en   \n",
       "4  In their quest to confront the ultimate evil, ...                en   \n",
       "\n",
       "   vote_count  vote_average  \n",
       "0        2853           5.9  \n",
       "1        1349           7.2  \n",
       "2        2530           7.1  \n",
       "3       13611           7.1  \n",
       "4        3542           5.9  "
      ]
     },
     "execution_count": 30,
     "metadata": {},
     "output_type": "execute_result"
    }
   ],
   "source": [
    "data.head()"
   ]
  },
  {
   "cell_type": "code",
   "execution_count": 31,
   "id": "d36dd8fb",
   "metadata": {},
   "outputs": [],
   "source": [
    "sc1 = MinMaxScaler()\n",
    "sc1_data = sc1.fit_transform(data[['vote_average']])"
   ]
  },
  {
   "cell_type": "code",
   "execution_count": 32,
   "id": "66dfb4d8",
   "metadata": {},
   "outputs": [
    {
     "data": {
      "image/png": "[encoded data removed]",
      "text/plain": [
       "<Figure size 432x288 with 1 Axes>"
      ]
     },
     "metadata": {},
     "output_type": "display_data"
    }
   ],
   "source": [
    "plt.hist(data['vote_average'], 50)\n",
    "plt.show()"
   ]
  },
  {
   "cell_type": "markdown",
   "id": "2f0d4eea",
   "metadata": {},
   "source": [
    "### Масштабирование данных на основе Z-оценки"
   ]
  },
  {
   "cell_type": "code",
   "execution_count": 33,
   "id": "7a443d42",
   "metadata": {},
   "outputs": [],
   "source": [
    "sc2 = StandardScaler()\n",
    "sc2_data = sc2.fit_transform(data[['vote_average']])"
   ]
  },
  {
   "cell_type": "code",
   "execution_count": 34,
   "id": "029e0a38",
   "metadata": {},
   "outputs": [
    {
     "data": {
      "image/png": "[encoded data removed]",
      "text/plain": [
       "<Figure size 432x288 with 1 Axes>"
      ]
     },
     "metadata": {},
     "output_type": "display_data"
    }
   ],
   "source": [
    "plt.hist(sc2_data, 50)\n",
    "plt.show()"
   ]
  },
  {
   "cell_type": "code",
   "execution_count": null,
   "id": "e4fc1cf0",
   "metadata": {},
   "outputs": [],
   "source": []
  }
 ],
 "metadata": {
  "kernelspec": {
   "display_name": "Python 3",
   "language": "python",
   "name": "python3"
  },
  "language_info": {
   "codemirror_mode": {
    "name": "ipython",
    "version": 3
   },
   "file_extension": ".py",
   "mimetype": "text/x-python",
   "name": "python",
   "nbconvert_exporter": "python",
   "pygments_lexer": "ipython3",
   "version": "3.9.1"
  }
 },
 "nbformat": 4,
 "nbformat_minor": 5
}
